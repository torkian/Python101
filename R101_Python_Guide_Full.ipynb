{
 "cells": [
  {
   "cell_type": "markdown",
   "id": "c6fe5e53",
   "metadata": {},
   "source": [
    "# Python Conversion of R Code Guide"
   ]
  },
  {
   "cell_type": "markdown",
   "id": "3049e3ca",
   "metadata": {},
   "source": [
    "### Basic Math and Printing"
   ]
  },
  {
   "cell_type": "code",
   "execution_count": 1,
   "id": "8116213b",
   "metadata": {},
   "outputs": [
    {
     "name": "stdout",
     "output_type": "stream",
     "text": [
      "4\n"
     ]
    }
   ],
   "source": [
    "print(2 + 2)"
   ]
  },
  {
   "cell_type": "markdown",
   "id": "403f66aa",
   "metadata": {},
   "source": [
    "### Range and Sequence Equivalent to R's `1:100`"
   ]
  },
  {
   "cell_type": "code",
   "execution_count": 2,
   "id": "9fb2537f",
   "metadata": {},
   "outputs": [
    {
     "name": "stdout",
     "output_type": "stream",
     "text": [
      "[1, 2, 3, 4, 5, 6, 7, 8, 9, 10, 11, 12, 13, 14, 15, 16, 17, 18, 19, 20, 21, 22, 23, 24, 25, 26, 27, 28, 29, 30, 31, 32, 33, 34, 35, 36, 37, 38, 39, 40, 41, 42, 43, 44, 45, 46, 47, 48, 49, 50, 51, 52, 53, 54, 55, 56, 57, 58, 59, 60, 61, 62, 63, 64, 65, 66, 67, 68, 69, 70, 71, 72, 73, 74, 75, 76, 77, 78, 79, 80, 81, 82, 83, 84, 85, 86, 87, 88, 89, 90, 91, 92, 93, 94, 95, 96, 97, 98, 99, 100]\n"
     ]
    }
   ],
   "source": [
    "print(list(range(1, 101)))"
   ]
  },
  {
   "cell_type": "markdown",
   "id": "58baacf1",
   "metadata": {},
   "source": [
    "### Print 'Hello World' in Console"
   ]
  },
  {
   "cell_type": "code",
   "execution_count": 3,
   "id": "ea14c38d",
   "metadata": {},
   "outputs": [
    {
     "name": "stdout",
     "output_type": "stream",
     "text": [
      "Hello World!\n"
     ]
    }
   ],
   "source": [
    "print(\"Hello World!\")"
   ]
  },
  {
   "cell_type": "markdown",
   "id": "98ea1802",
   "metadata": {},
   "source": [
    "### Variables and Basic Operations in Python"
   ]
  },
  {
   "cell_type": "code",
   "execution_count": 4,
   "id": "22b64dda",
   "metadata": {},
   "outputs": [
    {
     "name": "stdout",
     "output_type": "stream",
     "text": [
      "[1 2 3 4 5]\n",
      "[ 6  7  8  9 10]\n",
      "[ 7  9 11 13 15]\n",
      "[ 2  4  6  8 10]\n",
      "[ 6 14 24 36 50]\n"
     ]
    }
   ],
   "source": [
    "\n",
    "import numpy as np\n",
    "x = np.arange(1, 6)\n",
    "print(x)\n",
    "\n",
    "y = np.array([6, 7, 8, 9, 10])\n",
    "print(y)\n",
    "\n",
    "# Element-wise operations\n",
    "print(x + y)\n",
    "print(x * 2)\n",
    "print(x * y)\n",
    "    "
   ]
  },
  {
   "cell_type": "markdown",
   "id": "0c75cbab",
   "metadata": {},
   "source": [
    "### Assign Numbers to Variable x and Print"
   ]
  },
  {
   "cell_type": "code",
   "execution_count": 5,
   "id": "92516a5c",
   "metadata": {},
   "outputs": [
    {
     "name": "stdout",
     "output_type": "stream",
     "text": [
      "[ 0  1  2  3  4  5  6  7  8  9 10]\n"
     ]
    }
   ],
   "source": [
    "\n",
    "x = np.arange(0, 11)\n",
    "print(x)\n",
    "    "
   ]
  },
  {
   "cell_type": "markdown",
   "id": "38ce98c3",
   "metadata": {},
   "source": [
    "### Assign Values to y and Print"
   ]
  },
  {
   "cell_type": "code",
   "execution_count": 6,
   "id": "d20554a6",
   "metadata": {},
   "outputs": [
    {
     "name": "stdout",
     "output_type": "stream",
     "text": [
      "[5 4 1 6 7 2 2 3 2 8]\n"
     ]
    }
   ],
   "source": [
    "\n",
    "y = np.array([5, 4, 1, 6, 7, 2, 2, 3, 2, 8])\n",
    "print(y)\n",
    "    "
   ]
  },
  {
   "cell_type": "markdown",
   "id": "b758c3f3",
   "metadata": {},
   "source": [
    "### List Objects in Python Session"
   ]
  },
  {
   "cell_type": "code",
   "execution_count": 7,
   "id": "8164086c",
   "metadata": {},
   "outputs": [
    {
     "name": "stdout",
     "output_type": "stream",
     "text": [
      "['In', 'Out', '_', '__', '___', '__builtin__', '__builtins__', '__doc__', '__loader__', '__name__', '__package__', '__spec__', '_dh', '_i', '_i1', '_i2', '_i3', '_i4', '_i5', '_i6', '_i7', '_ih', '_ii', '_iii', '_oh', 'exit', 'get_ipython', 'np', 'quit', 'x', 'y']\n"
     ]
    }
   ],
   "source": [
    "print(dir())"
   ]
  },
  {
   "cell_type": "markdown",
   "id": "2e3b1e13",
   "metadata": {},
   "source": [
    "### Handling CSV Files (CSV Reading and Paths in Python)"
   ]
  },
  {
   "cell_type": "code",
   "execution_count": 10,
   "id": "49563205",
   "metadata": {},
   "outputs": [
    {
     "name": "stdout",
     "output_type": "stream",
     "text": [
      "   ID  Gender   Age      Site  Times\n",
      "0   1    male  24.0      None    0.0\n",
      "1   2  female  26.0  Facebook   20.0\n",
      "2   3    male  54.0  Facebook    2.0\n",
      "3   4  female  42.0  Facebook    7.0\n",
      "4   5    male  54.0      None    NaN\n"
     ]
    }
   ],
   "source": [
    "\n",
    "import pandas as pd\n",
    "\n",
    "# Path must be corrected for your environment\n",
    "# If you encounter issues with backslashes, use double-backslashes or forward slashes\n",
    "try:\n",
    "    sn_csv = pd.read_csv('social_network.csv')  # Replace with your file's location\n",
    "    print(sn_csv.head())\n",
    "except FileNotFoundError:\n",
    "    print('File not found. Please check the path.')\n",
    "    "
   ]
  },
  {
   "cell_type": "markdown",
   "id": "45a4247f",
   "metadata": {},
   "source": [
    "### Plotting Barplots in Python"
   ]
  },
  {
   "cell_type": "code",
   "execution_count": 12,
   "id": "bed6d708",
   "metadata": {},
   "outputs": [
    {
     "data": {
      "image/png": "[encoded data removed]",
      "text/plain": [
       "<Figure size 720x360 with 1 Axes>"
      ]
     },
     "metadata": {
      "needs_background": "light"
     },
     "output_type": "display_data"
    }
   ],
   "source": [
    "\n",
    "import matplotlib.pyplot as plt\n",
    "\n",
    "# Example data (replace sn_csv with actual data once file is loaded)\n",
    "site_freq = sn_csv['Site'].value_counts()\n",
    "\n",
    "plt.figure(figsize=(10, 5))\n",
    "site_freq.plot(kind='bar')\n",
    "plt.title('Preferred Social Networking Site A Survey of Users')\n",
    "plt.xlabel('Number of Users')\n",
    "plt.ylabel('Count')\n",
    "plt.show()\n",
    "    "
   ]
  },
  {
   "cell_type": "markdown",
   "id": "f7369848",
   "metadata": {},
   "source": [
    "### Creating a Histogram of Age"
   ]
  },
  {
   "cell_type": "code",
   "execution_count": 13,
   "id": "a9888315",
   "metadata": {},
   "outputs": [
    {
     "data": {
      "image/png": "[encoded data removed]",
      "text/plain": [
       "<Figure size 432x288 with 1 Axes>"
      ]
     },
     "metadata": {
      "needs_background": "light"
     },
     "output_type": "display_data"
    }
   ],
   "source": [
    "\n",
    "plt.hist(sn_csv['Age'], color='beige')\n",
    "plt.title('Ages of Respondents')\n",
    "plt.xlabel('Age of Respondents')\n",
    "plt.show()\n",
    "    "
   ]
  },
  {
   "cell_type": "markdown",
   "id": "bcedcfa6",
   "metadata": {},
   "source": [
    "### Creating a Boxplot of Age"
   ]
  },
  {
   "cell_type": "code",
   "execution_count": 17,
   "id": "78f288fd",
   "metadata": {},
   "outputs": [
    {
     "data": {
      "image/png": "[encoded data removed]",
      "text/plain": [
       "<Figure size 432x288 with 1 Axes>"
      ]
     },
     "metadata": {
      "needs_background": "light"
     },
     "output_type": "display_data"
    }
   ],
   "source": [
    "\n",
    "plt.boxplot(sn_csv['Age'], patch_artist=True, boxprops=dict(facecolor='beige'))\n",
    "plt.title('Ages of Respondents')\n",
    "plt.xlabel('Age of Respondents')\n",
    "plt.show()\n",
    "    "
   ]
  },
  {
   "cell_type": "markdown",
   "id": "0c9d9054",
   "metadata": {},
   "source": [
    "### Descriptive Statistics in Python"
   ]
  },
  {
   "cell_type": "code",
   "execution_count": 18,
   "id": "0454f8db",
   "metadata": {},
   "outputs": [
    {
     "name": "stdout",
     "output_type": "stream",
     "text": [
      "count    190.000000\n",
      "mean      31.657895\n",
      "std       12.782007\n",
      "min        6.000000\n",
      "25%       21.000000\n",
      "50%       28.000000\n",
      "75%       40.750000\n",
      "max       70.000000\n",
      "Name: Age, dtype: float64\n"
     ]
    }
   ],
   "source": [
    "\n",
    "# Descriptive statistics for 'Age'\n",
    "print(sn_csv['Age'].describe())\n",
    "    "
   ]
  },
  {
   "cell_type": "markdown",
   "id": "a32a2b33",
   "metadata": {},
   "source": [
    "### Z-scores and Log Transformation in Python"
   ]
  },
  {
   "cell_type": "code",
   "execution_count": 19,
   "id": "3da22986",
   "metadata": {},
   "outputs": [
    {
     "data": {
      "image/png": "[encoded data removed]",
      "text/plain": [
       "<Figure size 432x288 with 1 Axes>"
      ]
     },
     "metadata": {
      "needs_background": "light"
     },
     "output_type": "display_data"
    },
    {
     "data": {
      "image/png": "[encoded data removed]",
      "text/plain": [
       "<Figure size 432x288 with 1 Axes>"
      ]
     },
     "metadata": {
      "needs_background": "light"
     },
     "output_type": "display_data"
    }
   ],
   "source": [
    "\n",
    "# Creating z-scores\n",
    "sn_csv['Times_z'] = (sn_csv['Times'] - sn_csv['Times'].mean()) / sn_csv['Times'].std()\n",
    "plt.hist(sn_csv['Times_z'])\n",
    "plt.title('Z-scores of Times Logged In')\n",
    "plt.show()\n",
    "\n",
    "# Log transformation\n",
    "sn_csv['Times_log'] = np.log(sn_csv['Times'] + 1)\n",
    "plt.hist(sn_csv['Times_log'])\n",
    "plt.title('Log Transformation of Times Logged In')\n",
    "plt.show()\n",
    "    "
   ]
  },
  {
   "cell_type": "code",
   "execution_count": null,
   "id": "dc145a79",
   "metadata": {},
   "outputs": [],
   "source": []
  }
 ],
 "metadata": {
  "kernelspec": {
   "display_name": "Python 3 (ipykernel)",
   "language": "python",
   "name": "python3"
  },
  "language_info": {
   "codemirror_mode": {
    "name": "ipython",
    "version": 3
   },
   "file_extension": ".py",
   "mimetype": "text/x-python",
   "name": "python",
   "nbconvert_exporter": "python",
   "pygments_lexer": "ipython3",
   "version": "3.9.12"
  }
 },
 "nbformat": 4,
 "nbformat_minor": 5
}
