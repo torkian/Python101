{
 "cells": [
  {
   "cell_type": "markdown",
   "id": "2692eea1",
   "metadata": {},
   "source": [
    "# Python Guide for Data Analysis"
   ]
  },
  {
   "cell_type": "markdown",
   "id": "32808f9c",
   "metadata": {},
   "source": [
    "### Basic Math and Printing"
   ]
  },
  {
   "cell_type": "code",
   "execution_count": 1,
   "id": "f34ce337",
   "metadata": {},
   "outputs": [
    {
     "name": "stdout",
     "output_type": "stream",
     "text": [
      "4\n"
     ]
    }
   ],
   "source": [
    "print(2 + 2)"
   ]
  },
  {
   "cell_type": "markdown",
   "id": "d2cfd6f1",
   "metadata": {},
   "source": [
    "### Range and Sequence"
   ]
  },
  {
   "cell_type": "code",
   "execution_count": 2,
   "id": "427bb19e",
   "metadata": {},
   "outputs": [
    {
     "name": "stdout",
     "output_type": "stream",
     "text": [
      "[1, 2, 3, 4, 5, 6, 7, 8, 9, 10, 11, 12, 13, 14, 15, 16, 17, 18, 19, 20, 21, 22, 23, 24, 25, 26, 27, 28, 29, 30, 31, 32, 33, 34, 35, 36, 37, 38, 39, 40, 41, 42, 43, 44, 45, 46, 47, 48, 49, 50, 51, 52, 53, 54, 55, 56, 57, 58, 59, 60, 61, 62, 63, 64, 65, 66, 67, 68, 69, 70, 71, 72, 73, 74, 75, 76, 77, 78, 79, 80, 81, 82, 83, 84, 85, 86, 87, 88, 89, 90, 91, 92, 93, 94, 95, 96, 97, 98, 99, 100]\n"
     ]
    }
   ],
   "source": [
    "print(list(range(1, 101)))"
   ]
  },
  {
   "cell_type": "markdown",
   "id": "be644393",
   "metadata": {},
   "source": [
    "### Print Hello World"
   ]
  },
  {
   "cell_type": "code",
   "execution_count": 3,
   "id": "bb727129",
   "metadata": {},
   "outputs": [
    {
     "name": "stdout",
     "output_type": "stream",
     "text": [
      "Hello World!\n"
     ]
    }
   ],
   "source": [
    "print(\"Hello World!\")"
   ]
  },
  {
   "cell_type": "markdown",
   "id": "6f9528f6",
   "metadata": {},
   "source": [
    "### Variables and Basic Operations"
   ]
  },
  {
   "cell_type": "code",
   "execution_count": 4,
   "id": "ec0fc80d",
   "metadata": {},
   "outputs": [
    {
     "name": "stdout",
     "output_type": "stream",
     "text": [
      "[1 2 3 4 5]\n",
      "[ 6  7  8  9 10]\n",
      "[ 7  9 11 13 15]\n",
      "[ 2  4  6  8 10]\n",
      "[ 6 14 24 36 50]\n"
     ]
    }
   ],
   "source": [
    "\n",
    "import numpy as np\n",
    "x = np.arange(1, 6)\n",
    "print(x)\n",
    "\n",
    "y = np.array([6, 7, 8, 9, 10])\n",
    "print(y)\n",
    "\n",
    "# Element-wise operations\n",
    "print(x + y)\n",
    "print(x * 2)\n",
    "print(x * y)\n",
    "    "
   ]
  },
  {
   "cell_type": "markdown",
   "id": "8bf71406",
   "metadata": {},
   "source": [
    "### Reading CSV Files"
   ]
  },
  {
   "cell_type": "code",
   "execution_count": 5,
   "id": "b7c89c5c",
   "metadata": {},
   "outputs": [
    {
     "name": "stdout",
     "output_type": "stream",
     "text": [
      "        Site  Age  Times\n",
      "0   Facebook   23      5\n",
      "1    Twitter   34      3\n",
      "2  Instagram   45      7\n",
      "3   Facebook   25      2\n",
      "4   LinkedIn   32      9\n"
     ]
    }
   ],
   "source": [
    "\n",
    "import pandas as pd\n",
    "\n",
    "# Update the path to the correct location where your CSV file is saved\n",
    "# sn_csv = pd.read_csv(\"C:/Users/RCI/Desktop/social_network.csv\")\n",
    "# For demonstration purposes, here is a sample dataframe\n",
    "data = {'Site': ['Facebook', 'Twitter', 'Instagram', 'Facebook', 'LinkedIn'],\n",
    "        'Age': [23, 34, 45, 25, 32],\n",
    "        'Times': [5, 3, 7, 2, 9]}\n",
    "sn_csv = pd.DataFrame(data)\n",
    "print(sn_csv.head())\n",
    "    "
   ]
  },
  {
   "cell_type": "markdown",
   "id": "268d8d24",
   "metadata": {},
   "source": [
    "### Creating a Bar Plot"
   ]
  },
  {
   "cell_type": "code",
   "execution_count": 9,
   "id": "96d334b7",
   "metadata": {},
   "outputs": [
    {
     "data": {
      "image/png": "[encoded data removed]",
      "text/plain": [
       "<Figure size 720x360 with 1 Axes>"
      ]
     },
     "metadata": {
      "needs_background": "light"
     },
     "output_type": "display_data"
    }
   ],
   "source": [
    "\n",
    "import matplotlib.pyplot as plt\n",
    "\n",
    "site_freq = sn_csv['Site'].value_counts()\n",
    "\n",
    "plt.figure(figsize=(10, 5))\n",
    "site_freq.plot(kind='bar')\n",
    "plt.title('Preferred Social Networking Site A Survey of Users')\n",
    "plt.xlabel('Number of Users')\n",
    "plt.ylabel('Count')\n",
    "plt.show()\n",
    "    "
   ]
  },
  {
   "cell_type": "markdown",
   "id": "ad77cd82",
   "metadata": {},
   "source": [
    "### Histogram of Age"
   ]
  },
  {
   "cell_type": "code",
   "execution_count": 10,
   "id": "8ac0b09d",
   "metadata": {},
   "outputs": [
    {
     "data": {
      "image/png": "[encoded data removed]",
      "text/plain": [
       "<Figure size 432x288 with 1 Axes>"
      ]
     },
     "metadata": {
      "needs_background": "light"
     },
     "output_type": "display_data"
    }
   ],
   "source": [
    "\n",
    "plt.hist(sn_csv['Age'], color='beige')\n",
    "plt.title('Ages of Respondents')\n",
    "plt.xlabel('Age of Respondents')\n",
    "plt.show()\n",
    "    "
   ]
  },
  {
   "cell_type": "markdown",
   "id": "58afb50d",
   "metadata": {},
   "source": [
    "### Boxplot of Age"
   ]
  },
  {
   "cell_type": "code",
   "execution_count": 11,
   "id": "fd31cd0f",
   "metadata": {},
   "outputs": [
    {
     "data": {
      "image/png": "[encoded data removed]",
      "text/plain": [
       "<Figure size 432x288 with 1 Axes>"
      ]
     },
     "metadata": {
      "needs_background": "light"
     },
     "output_type": "display_data"
    }
   ],
   "source": [
    "\n",
    "plt.boxplot(sn_csv['Age'], patch_artist=True, boxprops=dict(facecolor='beige'))\n",
    "plt.title('Ages of Respondents')\n",
    "plt.xlabel('Age of Respondents')\n",
    "plt.show()\n",
    "    "
   ]
  },
  {
   "cell_type": "markdown",
   "id": "4748a7f2",
   "metadata": {},
   "source": [
    "### Descriptive Statistics"
   ]
  },
  {
   "cell_type": "code",
   "execution_count": 12,
   "id": "24982c47",
   "metadata": {},
   "outputs": [
    {
     "name": "stdout",
     "output_type": "stream",
     "text": [
      "count     5.000000\n",
      "mean     31.800000\n",
      "std       8.700575\n",
      "min      23.000000\n",
      "25%      25.000000\n",
      "50%      32.000000\n",
      "75%      34.000000\n",
      "max      45.000000\n",
      "Name: Age, dtype: float64\n"
     ]
    }
   ],
   "source": [
    "\n",
    "print(sn_csv['Age'].describe())\n",
    "    "
   ]
  },
  {
   "cell_type": "markdown",
   "id": "163552b7",
   "metadata": {},
   "source": [
    "### Z-scores and Log Transformation"
   ]
  },
  {
   "cell_type": "code",
   "execution_count": 13,
   "id": "d38e8a4e",
   "metadata": {},
   "outputs": [
    {
     "data": {
      "image/png": "[encoded data removed]",
      "text/plain": [
       "<Figure size 432x288 with 1 Axes>"
      ]
     },
     "metadata": {
      "needs_background": "light"
     },
     "output_type": "display_data"
    },
    {
     "data": {
      "image/png": "[encoded data removed]",
      "text/plain": [
       "<Figure size 432x288 with 1 Axes>"
      ]
     },
     "metadata": {
      "needs_background": "light"
     },
     "output_type": "display_data"
    }
   ],
   "source": [
    "\n",
    "sn_csv['Times_z'] = (sn_csv['Times'] - sn_csv['Times'].mean()) / sn_csv['Times'].std()\n",
    "plt.hist(sn_csv['Times_z'])\n",
    "plt.title('Z-scores of Times Logged In')\n",
    "plt.show()\n",
    "\n",
    "# Log transform\n",
    "sn_csv['Times_log'] = np.log(sn_csv['Times'] + 1)\n",
    "plt.hist(sn_csv['Times_log'])\n",
    "plt.title('Log Transformation of Times Logged In')\n",
    "plt.show()\n",
    "    "
   ]
  },
  {
   "cell_type": "markdown",
   "id": "5aab8e99",
   "metadata": {},
   "source": [
    "### Scatter Plot with Regression Line"
   ]
  },
  {
   "cell_type": "code",
   "execution_count": 14,
   "id": "6c7391f4",
   "metadata": {},
   "outputs": [
    {
     "data": {
      "image/png": "[encoded data removed]",
      "text/plain": [
       "<Figure size 432x288 with 1 Axes>"
      ]
     },
     "metadata": {
      "needs_background": "light"
     },
     "output_type": "display_data"
    }
   ],
   "source": [
    "\n",
    "# Assuming google is another dataset, for demonstration purposes, let's use a sample:\n",
    "google = pd.DataFrame({\n",
    "    'degree': [40, 50, 60, 70, 80],\n",
    "    'data_viz': [5, 10, 15, 20, 25],\n",
    "    'facebook': [100, 110, 120, 130, 140]\n",
    "})\n",
    "\n",
    "plt.scatter(google['degree'], google['data_viz'])\n",
    "plt.title('Interest in Data Visualization vs College Degrees')\n",
    "plt.xlabel('Population with College Degrees')\n",
    "plt.ylabel('Searches for \"Data Visualization\"')\n",
    "plt.show()\n",
    "    "
   ]
  },
  {
   "cell_type": "code",
   "execution_count": null,
   "id": "b2c1ce36",
   "metadata": {},
   "outputs": [],
   "source": []
  }
 ],
 "metadata": {
  "kernelspec": {
   "display_name": "Python 3 (ipykernel)",
   "language": "python",
   "name": "python3"
  },
  "language_info": {
   "codemirror_mode": {
    "name": "ipython",
    "version": 3
   },
   "file_extension": ".py",
   "mimetype": "text/x-python",
   "name": "python",
   "nbconvert_exporter": "python",
   "pygments_lexer": "ipython3",
   "version": "3.9.12"
  }
 },
 "nbformat": 4,
 "nbformat_minor": 5
}
